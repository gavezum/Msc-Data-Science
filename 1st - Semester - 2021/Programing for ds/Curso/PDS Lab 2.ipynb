{
 "cells": [
  {
   "cell_type": "markdown",
   "metadata": {},
   "source": [
    "# Programming for Data Science - Lab 2\n",
    "\n",
    "\n",
    "Try to solve the questions below using Python."
   ]
  },
  {
   "cell_type": "markdown",
   "metadata": {},
   "source": [
    "### Variables, Operators, and Data Structures\n",
    "\n",
    "\n",
    "<b>Q</b>: In the following cell we have declared a multiple variables. Can you identify the type of each variable?\n",
    "\n",
    "Remember to run the top cell first."
   ]
  },
  {
   "cell_type": "code",
   "execution_count": 2,
   "metadata": {},
   "outputs": [],
   "source": [
    "a = 15 #int\n",
    "b = 24.5 #float\n",
    "c = \"Knock Knock\" #string\n",
    "d = \"Who's there?\" #string\n",
    "e = \"Turnip\" #string\n",
    "f = \"Turnip Who?\" #string\n",
    "g = \"Turnip the volume, I love this song!\" #string"
   ]
  },
  {
   "cell_type": "markdown",
   "metadata": {},
   "source": [
    "Let's verify the type of variable a"
   ]
  },
  {
   "cell_type": "code",
   "execution_count": 17,
   "metadata": {},
   "outputs": [
    {
     "data": {
      "text/plain": [
       "int"
      ]
     },
     "execution_count": 17,
     "metadata": {},
     "output_type": "execute_result"
    }
   ],
   "source": [
    "type(a)"
   ]
  },
  {
   "cell_type": "markdown",
   "metadata": {},
   "source": [
    "<b>Q</b>: What is the ouput of multiplying a times b? And what is the variable type of the output?"
   ]
  },
  {
   "cell_type": "code",
   "execution_count": 12,
   "metadata": {},
   "outputs": [
    {
     "name": "stdout",
     "output_type": "stream",
     "text": [
      "367.5\n"
     ]
    },
    {
     "data": {
      "text/plain": [
       "float"
      ]
     },
     "execution_count": 12,
     "metadata": {},
     "output_type": "execute_result"
    }
   ],
   "source": [
    "ab= a*b\n",
    "print(ab)\n",
    "type(ab)"
   ]
  },
  {
   "cell_type": "markdown",
   "metadata": {},
   "source": [
    "<b>Q</b>: Divide variable a by 2, what is the output type?"
   ]
  },
  {
   "cell_type": "code",
   "execution_count": 13,
   "metadata": {},
   "outputs": [
    {
     "name": "stdout",
     "output_type": "stream",
     "text": [
      "7.5\n"
     ]
    },
    {
     "data": {
      "text/plain": [
       "float"
      ]
     },
     "execution_count": 13,
     "metadata": {},
     "output_type": "execute_result"
    }
   ],
   "source": [
    "a_2= a/2\n",
    "print(a_2)\n",
    "type(a_2)"
   ]
  },
  {
   "cell_type": "markdown",
   "metadata": {},
   "source": [
    "<b>Q</b>: hat if you use the floor operator? Remember the floor operator is //"
   ]
  },
  {
   "cell_type": "code",
   "execution_count": 14,
   "metadata": {},
   "outputs": [
    {
     "name": "stdout",
     "output_type": "stream",
     "text": [
      "7\n"
     ]
    },
    {
     "data": {
      "text/plain": [
       "int"
      ]
     },
     "execution_count": 14,
     "metadata": {},
     "output_type": "execute_result"
    }
   ],
   "source": [
    "a_2= a//2\n",
    "print(a_2)\n",
    "type(a_2)"
   ]
  },
  {
   "cell_type": "markdown",
   "metadata": {},
   "source": [
    "<b>Q</b>: What if you multiply b by 2, what is the output type?"
   ]
  },
  {
   "cell_type": "code",
   "execution_count": 16,
   "metadata": {},
   "outputs": [
    {
     "name": "stdout",
     "output_type": "stream",
     "text": [
      "49.0\n"
     ]
    },
    {
     "data": {
      "text/plain": [
       "float"
      ]
     },
     "execution_count": 16,
     "metadata": {},
     "output_type": "execute_result"
    }
   ],
   "source": [
    "b2= b*2\n",
    "print(b2)\n",
    "type(b2)"
   ]
  },
  {
   "cell_type": "markdown",
   "metadata": {},
   "source": [
    "<b>Q</b>: What is the type of variables c,d,e,f, and g? <br>\n",
    "Use the print function to print a sentence that concatenates c,d,e,f, and g and prints each on a new line. Don't forget to add a line break separator \"\\n\" which can be passed as an argument to the print function."
   ]
  },
  {
   "cell_type": "code",
   "execution_count": 22,
   "metadata": {},
   "outputs": [
    {
     "name": "stdout",
     "output_type": "stream",
     "text": [
      "Knock Knock\n",
      "Who's there?\n",
      "Turnip\n",
      "Turnip Who?\n",
      "Turnip the volume, I love this song!\n"
     ]
    }
   ],
   "source": [
    "print(c+'\\n'+d+'\\n'+e+'\\n'+f+'\\n'+g)"
   ]
  },
  {
   "cell_type": "markdown",
   "metadata": {},
   "source": [
    "<b>Q</b>: Consider the list X, declared below. What is the lenght of X? Print the 5th and 9th element of the list."
   ]
  },
  {
   "cell_type": "code",
   "execution_count": 114,
   "metadata": {},
   "outputs": [
    {
     "data": {
      "text/plain": [
       "set"
      ]
     },
     "execution_count": 114,
     "metadata": {},
     "output_type": "execute_result"
    }
   ],
   "source": [
    "X = {2, 1, 21, 13, 233, 144, 0, 3, 8, 5, 89, 34, 1, 55}\n",
    "type(X)"
   ]
  },
  {
   "cell_type": "code",
   "execution_count": 115,
   "metadata": {},
   "outputs": [
    {
     "name": "stdout",
     "output_type": "stream",
     "text": [
      "{0, 1, 2, 3, 34, 5, 8, 233, 13, 144, 21, 55, 89}\n"
     ]
    }
   ],
   "source": [
    "Y = X\n",
    "print(X)"
   ]
  },
  {
   "cell_type": "code",
   "execution_count": 117,
   "metadata": {},
   "outputs": [
    {
     "data": {
      "text/plain": [
       "{1, 2, 3, 5, 8, 13, 21, 34, 55, 89, 144, 233}"
      ]
     },
     "execution_count": 117,
     "metadata": {},
     "output_type": "execute_result"
    }
   ],
   "source": [
    "X.pop()\n",
    "Y"
   ]
  },
  {
   "cell_type": "code",
   "execution_count": 40,
   "metadata": {
    "scrolled": true
   },
   "outputs": [
    {
     "name": "stdout",
     "output_type": "stream",
     "text": [
      "233 8\n"
     ]
    }
   ],
   "source": [
    "print(X[4],X[8])"
   ]
  },
  {
   "cell_type": "markdown",
   "metadata": {},
   "source": [
    "<b>Q</b>: List X hides a surprise. It seems that it was randomly shuffled before the class. Can you sort the list contents in ascending order? Make sure that X is sorted. Did you change X or create a new sorted list?"
   ]
  },
  {
   "cell_type": "code",
   "execution_count": 41,
   "metadata": {},
   "outputs": [
    {
     "name": "stdout",
     "output_type": "stream",
     "text": [
      "[0, 1, 1, 2, 3, 5, 8, 13, 21, 34, 55, 89, 144, 233]\n"
     ]
    }
   ],
   "source": [
    "\n",
    "X=sorted(X)\n",
    "print(X)"
   ]
  },
  {
   "cell_type": "markdown",
   "metadata": {},
   "source": [
    "<b>Q</b>: Hahaha, it seems that X stores the first 14 values (when starting from 0) of the Fibonacci sequence. In the Fibonacci sequence each value is the sum of the previous two values. Can you calculate what are the next two values in the sequence?"
   ]
  },
  {
   "cell_type": "code",
   "execution_count": 42,
   "metadata": {},
   "outputs": [],
   "source": [
    "last = X[-1]+X[-2]"
   ]
  },
  {
   "cell_type": "code",
   "execution_count": 43,
   "metadata": {},
   "outputs": [
    {
     "name": "stdout",
     "output_type": "stream",
     "text": [
      "[0, 1, 1, 2, 3, 5, 8, 13, 21, 34, 55, 89, 144, 233, 377, 610]\n"
     ]
    }
   ],
   "source": [
    "X[-1]+last"
   ]
  },
  {
   "cell_type": "markdown",
   "metadata": {},
   "source": [
    "<b>Q</b>: Append to the end of X the next two values of the Fibonacci sequence.\n",
    "Afterwards print the List and confirm that the values have been added successfuly.\n",
    "\n",
    "Note: you should be able to do this only calling X and its elements by the index."
   ]
  },
  {
   "cell_type": "code",
   "execution_count": 44,
   "metadata": {},
   "outputs": [
    {
     "data": {
      "text/plain": [
       "610"
      ]
     },
     "execution_count": 44,
     "metadata": {},
     "output_type": "execute_result"
    }
   ],
   "source": [
    "X.append(X[-1]+X[-2])"
   ]
  },
  {
   "cell_type": "code",
   "execution_count": null,
   "metadata": {},
   "outputs": [],
   "source": [
    "X.append(X[-1]+X[-2])\n",
    "print(X)"
   ]
  },
  {
   "cell_type": "markdown",
   "metadata": {},
   "source": [
    "<b>Q</b>: Now, suppose you show the sequence to your Math professor, who is a really opinionated and a believer that 0 should not be the first value of the sequence. He instructs you to remove it. Can you delete the value 0 from the list X? Show that you have successfuly remove the element 0."
   ]
  },
  {
   "cell_type": "code",
   "execution_count": 45,
   "metadata": {},
   "outputs": [
    {
     "data": {
      "text/plain": [
       "0"
      ]
     },
     "execution_count": 45,
     "metadata": {},
     "output_type": "execute_result"
    }
   ],
   "source": [
    "X.pop(0)"
   ]
  },
  {
   "cell_type": "code",
   "execution_count": 46,
   "metadata": {},
   "outputs": [
    {
     "name": "stdout",
     "output_type": "stream",
     "text": [
      "[1, 1, 2, 3, 5, 8, 13, 21, 34, 55, 89, 144, 233, 377, 610]\n"
     ]
    }
   ],
   "source": [
    "print(X)"
   ]
  },
  {
   "cell_type": "markdown",
   "metadata": {},
   "source": [
    "<b>Q</b>: Typecast the List X into a Tuple, and store the output in variable Y."
   ]
  },
  {
   "cell_type": "code",
   "execution_count": 51,
   "metadata": {},
   "outputs": [
    {
     "data": {
      "text/plain": [
       "tuple"
      ]
     },
     "execution_count": 51,
     "metadata": {},
     "output_type": "execute_result"
    }
   ],
   "source": [
    "Y= tuple(X)\n",
    "type(Y)"
   ]
  },
  {
   "cell_type": "markdown",
   "metadata": {},
   "source": [
    "<b>Q</b>: What is the lenght of Y?"
   ]
  },
  {
   "cell_type": "code",
   "execution_count": 52,
   "metadata": {},
   "outputs": [
    {
     "data": {
      "text/plain": [
       "15"
      ]
     },
     "execution_count": 52,
     "metadata": {},
     "output_type": "execute_result"
    }
   ],
   "source": [
    "len(Y)"
   ]
  },
  {
   "cell_type": "markdown",
   "metadata": {},
   "source": [
    "<b>Q</b>: Typecaste the List X into a Set. What is the size of the resulting Set?"
   ]
  },
  {
   "cell_type": "code",
   "execution_count": 54,
   "metadata": {},
   "outputs": [
    {
     "data": {
      "text/plain": [
       "set"
      ]
     },
     "execution_count": 54,
     "metadata": {},
     "output_type": "execute_result"
    }
   ],
   "source": [
    "Set = set(X)\n",
    "type(Set)"
   ]
  },
  {
   "cell_type": "markdown",
   "metadata": {},
   "source": [
    "<b>Q</b>: Below you can find the two variabls declared: movies and actors. \n",
    "\n",
    "The variable 'movies' stores a List with information about the movies each of a number actors have played a role in. That is, each entry in the movies List is a List of movie titles in which a particular actor played a role. The actor is thus encoded in the index of the List movies.\n",
    "\n",
    "The variable actors is a dictionary that provides a map between an actor name (key) and the corresponding index in the list movies (value). Thus, it provides a quick way to access the list movies using the name of the actor."
   ]
  },
  {
   "cell_type": "code",
   "execution_count": 58,
   "metadata": {},
   "outputs": [],
   "source": [
    "movies = [\n",
    "    ['JFK', 'Sleepers', 'Mystic River', 'Diner', 'Tremors', 'Hollow Man', 'A Few Good Men', 'Apollo 13', 'X-Men: First Class', 'Footloose'],\n",
    "    ['Marjorie Prime','A Perfect Day','The Spoils Before Dying','Spoils of Babylon','Portlandia','The Secret Life of Words','Anchorman: The Legend of Ron Burgundy','Code 46','Mystic River','Austin Powers: The Spy Who Shagged Me','I.Q','The Shawshank Redemption','Short Cuts','Top Gun'],\n",
    "    ['Happy Feet 2','Happy Feet','Back To The Future 2','Lord Of The Rings : The fellowship of the ring','Lord Of The Rings : The two towers','Lord Of The Rings : Return Of The King','The Hobbit : The Battle Of Five Armies','The Hobbit : An Unexpected Journey ','Sin City','Spy Kids 3 : Game Over'],\n",
    "    ['Back to the Future','Back to the Future Part II ','Back to the Future Part III','Casualties of War ','The Hard Way','The Frighteners','Doc Hollywood','Greedy ','Teen Wolf ','Bright Lights, Big City'],\n",
    "    ['X-Men','The Lord of the Rings: The Fellowship of the Ring','The Lord of the Rings: The Two Towers','The Lord of the Rings: The Return of the King','Emile','X2','Eighteen','X-Men: The Last Stand','The Magic Roundabout','Flushed Away'],\n",
    "    ['I Am Sam.','Sweet Home Alabama.','Trapped.','Hansel & Gretel.','Uptown Girls.','The Cat In The Hat.','Man On Fire.','Nine Lives.','Hide And Seek.','War Of The Worlds.'],\n",
    "    ['Manhattan ','Ironweed','Out of Africa ','Silkwood','The French Lieutenants Woman','Julie & Julia','The Devil Wears Prada','The Iron Lady','Sophies Choice','Kramer vs. Kramer'],\n",
    "    ['The Thirteenth Year','The Flintstones in Viva Rock Vegas','The Safety of ObjectsPanic Room','Cold Creek Manor','Catch That Kid','Speak','Undertow','Fierce People','Zathura A Space Adventure'],\n",
    "    ['Cowboys & Aliens','Paranoia','Ender Game','Anchorman 2: The Legend Continues','The Expendables 3','The Age of Adaline','Star Wars: Episode VII - The Force Awakens','Blade Runner 2049','Star Wars: Episode IX - The Rise of Skywalker','The Call of the Wild'],\n",
    "    ['Harry Potter and the Philosophers Stone','Harry Potter and the Chamber of Secrets','Thunderpants','Harry Potter and the Prisoner of Azkaban','Harry Potter and the Goblet of Fire','Driving Lessons','Harry Potter and the Order of the Phoenix','Harry Potter and the Half-Blood Prince','Cherrybomb','Wild Target'],\n",
    "]\n",
    "actors = dict((\n",
    "    ('Kevin Bacon',1),\n",
    "    ('Tim Robbins',2),\n",
    "    ('Elijah Wood',3),\n",
    "    ('Michael J. Fox',4),\n",
    "    ('Ian McKellen',5),\n",
    "    ('Dakota Fannings',6),\n",
    "    ('Maryl Streep',7),\n",
    "    ('Kristen Stewart',8),\n",
    "    ('Harrison Ford',9),\n",
    "    ('Rupert Grint',10)\n",
    "))"
   ]
  },
  {
   "cell_type": "markdown",
   "metadata": {},
   "source": [
    "Can you list all the actors names in the dictionary actors?"
   ]
  },
  {
   "cell_type": "code",
   "execution_count": 60,
   "metadata": {},
   "outputs": [
    {
     "data": {
      "text/plain": [
       "dict_keys(['Kevin Bacon', 'Tim Robbins', 'Elijah Wood', 'Michael J. Fox', 'Ian McKellen', 'Dakota Fannings', 'Maryl Streep', 'Kristen Stewart', 'Harrison Ford', 'Rupert Grint'])"
      ]
     },
     "execution_count": 60,
     "metadata": {},
     "output_type": "execute_result"
    }
   ],
   "source": [
    "actors.keys()"
   ]
  },
  {
   "cell_type": "markdown",
   "metadata": {},
   "source": [
    "Compare the lenght of the List movies with the maximum and minimum index value associated with an actor name. What do you conclude?"
   ]
  },
  {
   "cell_type": "code",
   "execution_count": 69,
   "metadata": {},
   "outputs": [
    {
     "name": "stdout",
     "output_type": "stream",
     "text": [
      "10\n",
      "10\n"
     ]
    }
   ],
   "source": [
    "print(len(movies))\n",
    "print(len(actors))"
   ]
  },
  {
   "cell_type": "markdown",
   "metadata": {},
   "source": [
    "Print the names of the movies in which Kevin Bacon played a role."
   ]
  },
  {
   "cell_type": "code",
   "execution_count": 80,
   "metadata": {},
   "outputs": [
    {
     "name": "stdout",
     "output_type": "stream",
     "text": [
      "False\n"
     ]
    }
   ],
   "source": [
    "movies[actors['Kevin Bacon']-1]"
   ]
  },
  {
   "cell_type": "markdown",
   "metadata": {},
   "source": [
    "Can you identify in which movies have \"Kevin Bacon\" and \"Tim Robbins\" co-starred? <br>\n",
    "Tip: Using Sets is quite handy for this task."
   ]
  },
  {
   "cell_type": "code",
   "execution_count": 74,
   "metadata": {},
   "outputs": [
    {
     "data": {
      "text/plain": [
       "{'Mystic River'}"
      ]
     },
     "execution_count": 74,
     "metadata": {},
     "output_type": "execute_result"
    }
   ],
   "source": [
    "kb = set(movies[0])\n",
    "tr= set(movies[1])\n",
    "cs = kb.intersection(tr)\n",
    "cs"
   ]
  },
  {
   "cell_type": "code",
   "execution_count": 91,
   "metadata": {},
   "outputs": [
    {
     "data": {
      "text/plain": [
       "<function str.isspace()>"
      ]
     },
     "execution_count": 91,
     "metadata": {},
     "output_type": "execute_result"
    }
   ],
   "source": [
    "a = 'Mystic River a a'\n",
    "a.replace()\n"
   ]
  },
  {
   "cell_type": "markdown",
   "metadata": {},
   "source": [
    "<b>Q</b>: In the Lecture we have discussed how data sctructures might be mutable or immutable depending on if they allow for the user to change individual elements they store. Can you demonstrate, by example, if each of the available data structures -- Tuples, Lists, Dictionaries, and Sets -- are mutable or not?\n",
    "\n",
    "3Tip: To show that it is immutable, you just need to show that you can't change a value. Likewise, to show that it is mutable, you only need to show that you can indeed change a value."
   ]
  },
  {
   "cell_type": "code",
   "execution_count": 87,
   "metadata": {},
   "outputs": [
    {
     "ename": "TypeError",
     "evalue": "'set' object does not support item assignment",
     "output_type": "error",
     "traceback": [
      "\u001b[1;31m---------------------------------------------------------------------------\u001b[0m",
      "\u001b[1;31mTypeError\u001b[0m                                 Traceback (most recent call last)",
      "\u001b[1;32m<ipython-input-87-fa97b3b1c76c>\u001b[0m in \u001b[0;36m<module>\u001b[1;34m\u001b[0m\n\u001b[0;32m      3\u001b[0m \u001b[1;31m#actors['test'] =2\u001b[0m\u001b[1;33m\u001b[0m\u001b[1;33m\u001b[0m\u001b[1;33m\u001b[0m\u001b[0m\n\u001b[0;32m      4\u001b[0m \u001b[1;31m#actors\u001b[0m\u001b[1;33m\u001b[0m\u001b[1;33m\u001b[0m\u001b[1;33m\u001b[0m\u001b[0m\n\u001b[1;32m----> 5\u001b[1;33m \u001b[0mSet\u001b[0m\u001b[1;33m[\u001b[0m\u001b[1;36m0\u001b[0m\u001b[1;33m]\u001b[0m\u001b[1;33m=\u001b[0m\u001b[1;36m1\u001b[0m\u001b[1;33m\u001b[0m\u001b[1;33m\u001b[0m\u001b[0m\n\u001b[0m",
      "\u001b[1;31mTypeError\u001b[0m: 'set' object does not support item assignment"
     ]
    }
   ],
   "source": [
    "#Y[0]=2 #tuple immutable\n",
    "#X[0]=2 #list mutable\n",
    "#actors['test'] =2\n",
    "#actors\n",
    "Set[0]=1"
   ]
  },
  {
   "cell_type": "markdown",
   "metadata": {},
   "source": [
    "### Flow Control"
   ]
  },
  {
   "cell_type": "markdown",
   "metadata": {},
   "source": [
    "<b>Q</b>: Write a program that, for an arbitrary choice of X and Y (with Y > X), prints all the even numbers in the range [X,Y]."
   ]
  },
  {
   "cell_type": "code",
   "execution_count": 8,
   "metadata": {},
   "outputs": [],
   "source": [
    "# Example values for X and Y\n",
    "X = 5\n",
    "Y = 40"
   ]
  },
  {
   "cell_type": "code",
   "execution_count": 9,
   "metadata": {
    "scrolled": true
   },
   "outputs": [
    {
     "name": "stdout",
     "output_type": "stream",
     "text": [
      "6\n",
      "8\n",
      "10\n",
      "12\n",
      "14\n",
      "16\n",
      "18\n",
      "20\n",
      "22\n",
      "24\n",
      "26\n",
      "28\n",
      "30\n",
      "32\n",
      "34\n",
      "36\n",
      "38\n",
      "40\n"
     ]
    }
   ],
   "source": [
    "if X > Y:\n",
    "    print(\"X is greater than Y!\")\n",
    "else:\n",
    "    while X <= Y:\n",
    "        if X%2 ==0:\n",
    "            print(X)\n",
    "        X = X +1\n",
    "            \n",
    "        \n"
   ]
  },
  {
   "cell_type": "markdown",
   "metadata": {},
   "source": [
    "<b>Q</b>: Consider the tuples X and Y that are declared below. Write a program that identifies the indexes of the two lists that correspond to matching values."
   ]
  },
  {
   "cell_type": "code",
   "execution_count": 75,
   "metadata": {},
   "outputs": [],
   "source": [
    "X = (1,2,3,4,5,6,7)\n",
    "Y = (7,2,3,10,2,8,9)\n"
   ]
  },
  {
   "cell_type": "code",
   "execution_count": 87,
   "metadata": {},
   "outputs": [
    {
     "name": "stdout",
     "output_type": "stream",
     "text": [
      "X indexes: 1 is equal to the Y indexes:[1, 4]\n",
      "X indexes: 2 is equal to the Y indexes:[2]\n",
      "X indexes: 6 is equal to the Y indexes:[0]\n"
     ]
    }
   ],
   "source": [
    "ident_indexes  = dict()\n",
    "\n",
    "for i in range(max(len(X),len(Y))):\n",
    "    ident_indexes[i] = []\n",
    "    for j in range(min(len(X),len(Y))):\n",
    "        if len(X) >= len(Y):\n",
    "            if X[i] == Y[j]:\n",
    "                ident_indexes[i].append(j)\n",
    "        else:\n",
    "            if Y[i] == X[j]:\n",
    "                ident_indexes[i].append(j) \n",
    "    if ident_indexes[i] == []:\n",
    "        ident_indexes.pop(i)\n",
    "\n",
    "for key in ident_indexes:\n",
    "    print('X indexes: ' + str(key)+ ' is equal to the Y indexes:'+ str(ident_indexes[key]))"
   ]
  },
  {
   "cell_type": "markdown",
   "metadata": {},
   "source": [
    "<b>Q</b>: Write a computer program that computes the average of the values stored in a list X"
   ]
  },
  {
   "cell_type": "code",
   "execution_count": 16,
   "metadata": {},
   "outputs": [
    {
     "data": {
      "text/plain": [
       "4"
      ]
     },
     "execution_count": 16,
     "metadata": {},
     "output_type": "execute_result"
    }
   ],
   "source": [
    "import statistics as stat\n",
    "\n",
    "stat.mean(X)"
   ]
  },
  {
   "cell_type": "markdown",
   "metadata": {},
   "source": [
    "<b>Q</b>: Write a computer program that computes the standard deviation of the values stored in a list X"
   ]
  },
  {
   "cell_type": "code",
   "execution_count": 18,
   "metadata": {},
   "outputs": [
    {
     "data": {
      "text/plain": [
       "2.160246899469287"
      ]
     },
     "execution_count": 18,
     "metadata": {},
     "output_type": "execute_result"
    }
   ],
   "source": [
    "stat.stdev(X)"
   ]
  },
  {
   "cell_type": "markdown",
   "metadata": {},
   "source": [
    "<b>Q</b>: Write a computer program that computes the median of the values stored in a list X"
   ]
  },
  {
   "cell_type": "code",
   "execution_count": 19,
   "metadata": {},
   "outputs": [
    {
     "data": {
      "text/plain": [
       "4"
      ]
     },
     "execution_count": 19,
     "metadata": {},
     "output_type": "execute_result"
    }
   ],
   "source": [
    "stat.median(X)"
   ]
  },
  {
   "cell_type": "markdown",
   "metadata": {},
   "source": [
    "## Python STL"
   ]
  },
  {
   "cell_type": "markdown",
   "metadata": {},
   "source": [
    "<b>Q</b>: Use the OS module to list all the files in your current working folder"
   ]
  },
  {
   "cell_type": "code",
   "execution_count": 20,
   "metadata": {
    "scrolled": true
   },
   "outputs": [
    {
     "name": "stdout",
     "output_type": "stream",
     "text": [
      "files in working directory:  ['.ipynb_checkpoints', 'Challenges - Class 1.ipynb', 'PDS Lab 2.ipynb']\n",
      "paths:  ['C:\\\\Users\\\\Not\\\\Desktop\\\\Aulas\\\\Programing for ds\\\\Curso', 'C:\\\\Users\\\\Not\\\\anaconda3\\\\python38.zip', 'C:\\\\Users\\\\Not\\\\anaconda3\\\\DLLs', 'C:\\\\Users\\\\Not\\\\anaconda3\\\\lib', 'C:\\\\Users\\\\Not\\\\anaconda3', '', 'C:\\\\Users\\\\Not\\\\anaconda3\\\\lib\\\\site-packages', 'C:\\\\Users\\\\Not\\\\anaconda3\\\\lib\\\\site-packages\\\\locket-0.2.1-py3.8.egg', 'C:\\\\Users\\\\Not\\\\anaconda3\\\\lib\\\\site-packages\\\\win32', 'C:\\\\Users\\\\Not\\\\anaconda3\\\\lib\\\\site-packages\\\\win32\\\\lib', 'C:\\\\Users\\\\Not\\\\anaconda3\\\\lib\\\\site-packages\\\\Pythonwin', 'C:\\\\Users\\\\Not\\\\anaconda3\\\\lib\\\\site-packages\\\\IPython\\\\extensions', 'C:\\\\Users\\\\Not\\\\.ipython']\n"
     ]
    }
   ],
   "source": [
    "# We start by loading the OS module\n",
    "import os\n",
    "\n",
    "# and then we can call the method listdir() to print the files in y our working folder\n",
    "print(\"files in working directory: \",os.listdir())\n",
    "\n",
    "#additionally using the sys we can check which paths is your python using to load modules\n",
    "import sys\n",
    "print(\"paths: \",sys.path)"
   ]
  },
  {
   "cell_type": "code",
   "execution_count": 21,
   "metadata": {},
   "outputs": [
    {
     "name": "stdout",
     "output_type": "stream",
     "text": [
      " O volume na unidade C não tem nome.\n",
      " O Número de Série do Volume é B0AD-8E9E\n",
      "\n",
      " Pasta de C:\\Users\\Not\\Desktop\\Aulas\\Programing for ds\\Curso\n",
      "\n",
      "15/09/2021  10:53    <DIR>          .\n",
      "15/09/2021  10:53    <DIR>          ..\n",
      "15/09/2021  08:43    <DIR>          .ipynb_checkpoints\n",
      "15/09/2021  10:46             2.053 Challenges - Class 1.ipynb\n",
      "15/09/2021  10:53            26.972 PDS Lab 2.ipynb\n",
      "               2 arquivo(s)         29.025 bytes\n",
      "               3 pasta(s)   152.048.414.720 bytes disponíveis\n"
     ]
    }
   ],
   "source": [
    "# alternatively we can use magic commands like follow \n",
    "%ls"
   ]
  },
  {
   "cell_type": "markdown",
   "metadata": {},
   "source": [
    "<b>Q</b>: Use the Random module to create a list of 100 with random floats (between 0 an 1)"
   ]
  },
  {
   "cell_type": "code",
   "execution_count": 22,
   "metadata": {},
   "outputs": [
    {
     "name": "stdout",
     "output_type": "stream",
     "text": [
      "[0.2972528412534384, 0.563938275673724, 0.3217843523727236, 0.37206258252478397, 0.18835958094935024, 0.7899213486214728, 0.6226585962287837, 0.48779769780043647, 0.30167239271747637, 0.0774634553462904, 0.07428953080787348, 0.4783661498634929, 0.20989354251495662, 0.19404531166016026, 0.18163985901682855, 0.6637296789742952, 0.5854870049579165, 0.5736719245757466, 0.09193618443816354, 0.24724069274797644, 0.5656450243147855, 0.15675367077742441, 0.3092172795026903, 0.3433931741998887, 0.5344962558860231, 0.9941596106923744, 0.0434894084073153, 0.5484971847329683, 0.8685025010539457, 0.08108302039180315, 0.31487898795921077, 0.8954388065143861, 0.4094725961229815, 0.7968956478607723, 0.9423797134380458, 0.1828060152597537, 0.14281353183442747, 0.436729400840168, 0.982696656348876, 0.7705043185387057, 0.7197255143563486, 0.7624273401687295, 0.3652030188725127, 0.5422958629062729, 0.8233295070329584, 0.3880690760556489, 0.21596647510764333, 0.07066881943107284, 0.11304702635212927, 0.41491165460190393, 0.4981415304007185, 0.8234636922630324, 0.39124843798435793, 0.2822914921268874, 0.06320451579425934, 0.38024589304979506, 0.20366430549589476, 0.14889957628552475, 0.017226927687757687, 0.7351892144396958, 0.4824649678794142, 0.19161777042530703, 0.23607644745661327, 0.7461249489103763, 0.7084777838791743, 0.6856255100430176, 0.26770097234749146, 0.8957755993657495, 0.17176058214369605, 0.8072405123819845, 0.9745229455744439, 0.4879997614025814, 0.6151753061186668, 0.12174913110257779, 0.31998993112413754, 0.30228388532787387, 0.32263211365594135, 0.8330655257698815, 0.2305591433095634, 0.9982132175535892, 0.47070031295132775, 0.24179395835078887, 0.03730415722656921, 0.4696890067196072, 0.5830219490420223, 0.5354455524112863, 0.800408639559122, 0.6927816048756185, 0.8141797590751283, 0.08433721074909006, 0.5402357556354241, 0.5851218974563914, 0.6779747174464735, 0.0979601156708867, 0.40807382125669345, 0.5598133814578008, 0.8502877107389357, 0.03406200892539801, 0.2209731183480509, 0.386149152557575]\n",
      "[0.21769193174706103, 0.5104466686208222, 0.4792906753316609, 0.48033207192022565, 0.25907743625201984, 0.549420819072148, 0.24883111328411478, 0.4633841377605141, 0.2397152807225108, 0.14041298565557425, 0.6694289738828061, 0.5351150214063092, 0.3576134803166826, 0.23180707066804496, 0.722147053905195, 0.3018586188043132, 0.6737031631740763, 0.062457647217815104, 0.870637664702504, 0.26014416394155193, 0.18375658868541, 0.45999609957351384, 0.22725131427346945, 0.30065407652142917, 0.5965351298251794, 0.02252730866218211, 0.5535111409663634, 0.9683829074992183, 0.37732029437314885, 0.6024247575274229, 0.8263817439258837, 0.8197153447331956, 0.23919645276773494, 0.6565261650945925, 0.46263475361398243, 0.6766164047322818, 0.7717714861726385, 0.5120078894326764, 0.12437828469036327, 0.8756617383838337, 0.5301044502991757, 0.6657373676503893, 0.07146422073188718, 0.111344128402456, 0.006542676326609764, 0.4454457780964902, 0.3294938297415505, 0.8800548926060874, 0.9872343612398128, 0.21142218455229322, 0.6050369334243552, 0.7084354096448807, 0.09696799726219485, 0.09154967271087155, 0.9037758110912746, 0.1172071778254331, 0.2072348071655975, 0.9397045300510665, 0.9752719525928694, 0.36345433925951853, 0.8061558728955216, 0.9596266389184357, 0.7375327292061525, 0.5044823619630465, 0.06943011194917903, 0.1878724746018724, 0.9689427414922683, 0.6390973334790324, 0.6019803139565449, 0.7542574382622416, 0.9692641085640116, 0.6137008194494914, 0.5482845819928412, 0.6496100711358981, 0.6139190589191094, 0.9670314961007666, 0.2141307242762116, 0.6893769417399437, 0.38786966074142915, 0.20881377350062935, 0.7010806851082876, 0.47441143465470814, 0.7717617219431079, 0.269365507423713, 0.3405247940486802, 0.5750689985314738, 0.5270618485910376, 0.7198374141937336, 0.30341132472390053, 0.4444806697453353, 0.6382789254955078, 0.8406787570154074, 0.363345959445174, 0.12408087244764121, 0.38504203362536304, 0.30917563160803385, 0.8492619782659518, 0.3329207691517556, 0.7122735865608342, 0.7970969138213554]\n"
     ]
    }
   ],
   "source": [
    "# We start by loading the random module \n",
    "import random\n",
    "\n",
    "#we can create a list of random numbers using a for loop\n",
    "r = []\n",
    "for rnd in range(100):\n",
    "    r.append(random.random())\n",
    "print(r)\n",
    "\n",
    "#or a while loop\n",
    "r2 = []\n",
    "while len(r2) < 100:\n",
    "    r2.append(random.random()) \n",
    "print(r2)"
   ]
  },
  {
   "cell_type": "markdown",
   "metadata": {},
   "source": [
    "<b>Q</b>:  Use the Math module to multiply each of the random numbers by 2 Pi"
   ]
  },
  {
   "cell_type": "code",
   "execution_count": 25,
   "metadata": {},
   "outputs": [],
   "source": [
    "# we start by loading the module math\n",
    "import math\n",
    "\n",
    "# loop over all elements of r and multiply each by math.pi (approximations are for nerds)\n",
    "for i in range(len(r)):\n",
    "    r[i] = r[i]*2*math.pi\n",
    " "
   ]
  },
  {
   "cell_type": "markdown",
   "metadata": {},
   "source": [
    "<b>Q</b>: Use the Math module to obtain the Sin of each of those values"
   ]
  },
  {
   "cell_type": "code",
   "execution_count": null,
   "metadata": {},
   "outputs": [],
   "source": [
    "# you can use another loop allow us to replace the values by its Sin() for i in range(len(r)):\n",
    "\n",
    "for i in range(len(r)):\n",
    "    r[i] = math.sin(r[i])\n",
    "\n",
    "print(r)"
   ]
  },
  {
   "cell_type": "markdown",
   "metadata": {},
   "source": [
    "## Additional Exercises"
   ]
  },
  {
   "cell_type": "markdown",
   "metadata": {},
   "source": [
    "<b>Question</b>: With a given integral number n, write a program to generate a dictionary that contains (i, i*i) such that is an integral number between 1 and n (both included). and then the program should print the dictionary.\n",
    "\n",
    "Suppose the following input is supplied to the program: 8 <br>\n",
    "Then, the output should be:\n",
    "{1: 1, 2: 4, 3: 9, 4: 16, 5: 25, 6: 36, 7: 49, 8: 64}"
   ]
  },
  {
   "cell_type": "code",
   "execution_count": 34,
   "metadata": {},
   "outputs": [
    {
     "name": "stdout",
     "output_type": "stream",
     "text": [
      "Choose an integer number: 10\n",
      "{1: 1, 2: 4, 3: 9, 4: 16, 5: 25, 6: 36, 7: 49, 8: 64, 9: 81, 10: 100}\n"
     ]
    }
   ],
   "source": [
    "X = int(input('Choose an integer number: '))\n",
    "Dict_multi = dict()\n",
    "i=1\n",
    "while i <= X:\n",
    "    Dict_multi[i] = i*i\n",
    "    i = i+1\n",
    "print(Dict_multi)"
   ]
  },
  {
   "cell_type": "markdown",
   "metadata": {},
   "source": [
    "<b>Question</b>: Write a program that accepts a comma separated sequence of words as input and prints the words in a comma-separated sequence after sorting them alphabetically.\n",
    "\n",
    "Suppose the following input is supplied to the program: without,hello,bag,world <br>\n",
    "Then, the output should be: bag,hello,without,world"
   ]
  },
  {
   "cell_type": "code",
   "execution_count": 61,
   "metadata": {},
   "outputs": [
    {
     "name": "stdout",
     "output_type": "stream",
     "text": [
      "bag,hello,without,world\n"
     ]
    }
   ],
   "source": [
    "string_input = 'without,hello,bag,world'\n",
    "\n",
    "aux = sorted(string_input.split(','))\n",
    "\n",
    "string_output=''\n",
    "for i in range(len(aux)):\n",
    "    if i == len(aux)-1:\n",
    "        string_output = string_output + aux[i]\n",
    "    else:\n",
    "        string_output = string_output + aux[i]+','\n",
    "    \n",
    "print(string_output)"
   ]
  },
  {
   "cell_type": "code",
   "execution_count": null,
   "metadata": {},
   "outputs": [],
   "source": []
  },
  {
   "cell_type": "markdown",
   "metadata": {},
   "source": [
    "<b>Question</b>: Write a program, which will find all such numbers between X and Y (both included) such that each digit of the number is an even number. The numbers obtained should be printed in a comma-separated sequence on a single line.\n",
    "\n",
    "Suppose the following input is supplied to the program: 10,50 <br>\n",
    "Then, the output should be: 20,22,24,26,28,40,42,44,46,48"
   ]
  },
  {
   "cell_type": "code",
   "execution_count": 70,
   "metadata": {},
   "outputs": [
    {
     "name": "stdout",
     "output_type": "stream",
     "text": [
      "Choose your numbers: 10,250\n",
      "20,22,24,26,28,40,42,44,46,48,60,62,64,66,68,80,82,84,86,88,200,202,204,206,208,220,222,224,226,228,240,242,244,246,248\n"
     ]
    }
   ],
   "source": [
    "Input = input(\"Choose your numbers: \")\n",
    "input_split = Input.split(',')\n",
    "f_input = [int(input_split[0]),int(input_split[1])]\n",
    "\n",
    "even_number = []\n",
    "if f_input[0] > f_input[1]:\n",
    "    print(\"First number needs to be smaller than the last!\")\n",
    "else:\n",
    "    for i in range(f_input[0],f_input[1]):\n",
    "        digit_i = [int(a) for a in str(i)]\n",
    "        aux = 0\n",
    "        for j in range(len(digit_i)):\n",
    "            aux = aux + digit_i[j]%2\n",
    "        if aux == 0:\n",
    "            even_number.append(i)\n",
    "\n",
    "output=''\n",
    "for i in range(len(even_number)):\n",
    "    if i == len(even_number) - 1:\n",
    "        output = output + str(even_number[i])\n",
    "    else:\n",
    "        output = output + str(even_number[i]) + ','\n",
    "print(output)  \n",
    "            "
   ]
  },
  {
   "cell_type": "code",
   "execution_count": null,
   "metadata": {},
   "outputs": [],
   "source": []
  }
 ],
 "metadata": {
  "kernelspec": {
   "display_name": "Python 3",
   "language": "python",
   "name": "python3"
  },
  "language_info": {
   "codemirror_mode": {
    "name": "ipython",
    "version": 3
   },
   "file_extension": ".py",
   "mimetype": "text/x-python",
   "name": "python",
   "nbconvert_exporter": "python",
   "pygments_lexer": "ipython3",
   "version": "3.8.8"
  }
 },
 "nbformat": 4,
 "nbformat_minor": 2
}
