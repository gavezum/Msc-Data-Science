{
 "cells": [
  {
   "cell_type": "code",
   "execution_count": 7,
   "id": "467210fe",
   "metadata": {},
   "outputs": [
    {
     "ename": "SyntaxError",
     "evalue": "invalid syntax (<ipython-input-7-6476a950e02e>, line 1)",
     "output_type": "error",
     "traceback": [
      "\u001b[1;36m  File \u001b[1;32m\"<ipython-input-7-6476a950e02e>\"\u001b[1;36m, line \u001b[1;32m1\u001b[0m\n\u001b[1;33m    _age! =1\u001b[0m\n\u001b[1;37m        ^\u001b[0m\n\u001b[1;31mSyntaxError\u001b[0m\u001b[1;31m:\u001b[0m invalid syntax\n"
     ]
    }
   ],
   "source": [
    "_age! =1"
   ]
  },
  {
   "cell_type": "code",
   "execution_count": 53,
   "id": "7b06e257",
   "metadata": {},
   "outputs": [],
   "source": [
    "X = (1,2,3,4,5,6,7)\n",
    "Y = (7,2,3,10,2,8,9)\n"
   ]
  },
  {
   "cell_type": "code",
   "execution_count": 57,
   "id": "cb4bf9c3",
   "metadata": {},
   "outputs": [
    {
     "data": {
      "text/plain": [
       "dict"
      ]
     },
     "execution_count": 57,
     "metadata": {},
     "output_type": "execute_result"
    }
   ],
   "source": [
    "ident_indexes = dict()\n",
    "type(ident_indexes)"
   ]
  },
  {
   "cell_type": "code",
   "execution_count": 71,
   "id": "f803eb77",
   "metadata": {},
   "outputs": [],
   "source": [
    "ident_indexes[1].append(5)"
   ]
  },
  {
   "cell_type": "code",
   "execution_count": 101,
   "id": "7d00daac",
   "metadata": {},
   "outputs": [
    {
     "name": "stdout",
     "output_type": "stream",
     "text": [
      "Choose your numbers: 10,50\n",
      "['10', '50']\n",
      "[10, 50]\n"
     ]
    },
    {
     "data": {
      "text/plain": [
       "True"
      ]
     },
     "execution_count": 101,
     "metadata": {},
     "output_type": "execute_result"
    }
   ],
   "source": [
    "Input = input(\"Choose your numbers: \")\n",
    "aux = Input.split(',')\n",
    "print(aux)\n",
    "aux2 = [int(aux[0]),int(aux[1])]\n",
    "print(aux2)\n",
    "aux2[0]<aux2[1]"
   ]
  },
  {
   "cell_type": "code",
   "execution_count": 130,
   "id": "2abc0982",
   "metadata": {},
   "outputs": [
    {
     "data": {
      "text/html": [
       "<div>\n",
       "<style scoped>\n",
       "    .dataframe tbody tr th:only-of-type {\n",
       "        vertical-align: middle;\n",
       "    }\n",
       "\n",
       "    .dataframe tbody tr th {\n",
       "        vertical-align: top;\n",
       "    }\n",
       "\n",
       "    .dataframe thead th {\n",
       "        text-align: right;\n",
       "    }\n",
       "</style>\n",
       "<table border=\"1\" class=\"dataframe\">\n",
       "  <thead>\n",
       "    <tr style=\"text-align: right;\">\n",
       "      <th></th>\n",
       "      <th>0</th>\n",
       "      <th>1</th>\n",
       "      <th>2</th>\n",
       "      <th>3</th>\n",
       "      <th>4</th>\n",
       "      <th>5</th>\n",
       "      <th>6</th>\n",
       "      <th>7</th>\n",
       "      <th>8</th>\n",
       "      <th>9</th>\n",
       "      <th>...</th>\n",
       "      <th>90</th>\n",
       "      <th>91</th>\n",
       "      <th>92</th>\n",
       "      <th>93</th>\n",
       "      <th>94</th>\n",
       "      <th>95</th>\n",
       "      <th>96</th>\n",
       "      <th>97</th>\n",
       "      <th>98</th>\n",
       "      <th>99</th>\n",
       "    </tr>\n",
       "  </thead>\n",
       "  <tbody>\n",
       "    <tr>\n",
       "      <th>0</th>\n",
       "      <td>11.390286</td>\n",
       "      <td>7.677628</td>\n",
       "      <td>7.612394</td>\n",
       "      <td>11.996703</td>\n",
       "      <td>15.483662</td>\n",
       "      <td>17.970393</td>\n",
       "      <td>8.586793</td>\n",
       "      <td>8.534237</td>\n",
       "      <td>12.506404</td>\n",
       "      <td>12.030895</td>\n",
       "      <td>...</td>\n",
       "      <td>10.540557</td>\n",
       "      <td>8.049583</td>\n",
       "      <td>12.122211</td>\n",
       "      <td>7.385599</td>\n",
       "      <td>11.212863</td>\n",
       "      <td>14.417224</td>\n",
       "      <td>8.992890</td>\n",
       "      <td>9.956990</td>\n",
       "      <td>13.523515</td>\n",
       "      <td>10.402148</td>\n",
       "    </tr>\n",
       "    <tr>\n",
       "      <th>1</th>\n",
       "      <td>4.219168</td>\n",
       "      <td>4.578636</td>\n",
       "      <td>5.137522</td>\n",
       "      <td>4.387910</td>\n",
       "      <td>3.886565</td>\n",
       "      <td>3.978684</td>\n",
       "      <td>6.818223</td>\n",
       "      <td>3.679521</td>\n",
       "      <td>3.801726</td>\n",
       "      <td>5.254482</td>\n",
       "      <td>...</td>\n",
       "      <td>5.401629</td>\n",
       "      <td>6.757872</td>\n",
       "      <td>4.543640</td>\n",
       "      <td>5.240840</td>\n",
       "      <td>4.554367</td>\n",
       "      <td>5.120832</td>\n",
       "      <td>4.969582</td>\n",
       "      <td>4.701489</td>\n",
       "      <td>6.315377</td>\n",
       "      <td>5.340380</td>\n",
       "    </tr>\n",
       "    <tr>\n",
       "      <th>2</th>\n",
       "      <td>22.371072</td>\n",
       "      <td>14.742649</td>\n",
       "      <td>21.113331</td>\n",
       "      <td>13.256750</td>\n",
       "      <td>16.885416</td>\n",
       "      <td>19.811545</td>\n",
       "      <td>15.880697</td>\n",
       "      <td>12.060056</td>\n",
       "      <td>19.014053</td>\n",
       "      <td>24.334333</td>\n",
       "      <td>...</td>\n",
       "      <td>18.234312</td>\n",
       "      <td>25.193337</td>\n",
       "      <td>24.495290</td>\n",
       "      <td>25.883837</td>\n",
       "      <td>12.544479</td>\n",
       "      <td>14.870831</td>\n",
       "      <td>20.073273</td>\n",
       "      <td>26.431323</td>\n",
       "      <td>22.794848</td>\n",
       "      <td>20.039975</td>\n",
       "    </tr>\n",
       "  </tbody>\n",
       "</table>\n",
       "<p>3 rows × 100 columns</p>\n",
       "</div>"
      ],
      "text/plain": [
       "          0          1          2          3          4          5   \\\n",
       "0  11.390286   7.677628   7.612394  11.996703  15.483662  17.970393   \n",
       "1   4.219168   4.578636   5.137522   4.387910   3.886565   3.978684   \n",
       "2  22.371072  14.742649  21.113331  13.256750  16.885416  19.811545   \n",
       "\n",
       "          6          7          8          9   ...         90         91  \\\n",
       "0   8.586793   8.534237  12.506404  12.030895  ...  10.540557   8.049583   \n",
       "1   6.818223   3.679521   3.801726   5.254482  ...   5.401629   6.757872   \n",
       "2  15.880697  12.060056  19.014053  24.334333  ...  18.234312  25.193337   \n",
       "\n",
       "          92         93         94         95         96         97  \\\n",
       "0  12.122211   7.385599  11.212863  14.417224   8.992890   9.956990   \n",
       "1   4.543640   5.240840   4.554367   5.120832   4.969582   4.701489   \n",
       "2  24.495290  25.883837  12.544479  14.870831  20.073273  26.431323   \n",
       "\n",
       "          98         99  \n",
       "0  13.523515  10.402148  \n",
       "1   6.315377   5.340380  \n",
       "2  22.794848  20.039975  \n",
       "\n",
       "[3 rows x 100 columns]"
      ]
     },
     "execution_count": 130,
     "metadata": {},
     "output_type": "execute_result"
    }
   ],
   "source": [
    "import pandas as pd\n",
    "import numpy as np\n",
    "s = np.random.normal(10,2,100)\n",
    "a = np.random.normal(5,1,100)\n",
    "b = np.random.normal(20,4,100)\n",
    "f = pd.DataFrame([s,a,b])\n",
    "f.loc[]"
   ]
  }
 ],
 "metadata": {
  "kernelspec": {
   "display_name": "Python 3",
   "language": "python",
   "name": "python3"
  },
  "language_info": {
   "codemirror_mode": {
    "name": "ipython",
    "version": 3
   },
   "file_extension": ".py",
   "mimetype": "text/x-python",
   "name": "python",
   "nbconvert_exporter": "python",
   "pygments_lexer": "ipython3",
   "version": "3.8.8"
  }
 },
 "nbformat": 4,
 "nbformat_minor": 5
}
